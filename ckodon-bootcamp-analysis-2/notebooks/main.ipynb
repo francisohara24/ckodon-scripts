{
 "cells": [
  {
   "cell_type": "markdown",
   "source": [
    "# SAT Bootcamp Analysis 2\n",
    "### Goal:\n",
    "Evenly divide new Ckodon students into random groups of 30.\n",
    "Assign group labels from I to Z.\n",
    "\n",
    "### Steps\n",
    "1. Import Google Form data into Pandas DataFrame.\n",
    "2. Clean the data:\n",
    "    1. Clean leading and trailing white space from all string columns.\n",
    "    2. Search for and print out duplicate rows.\n",
    "    3. Search for and print out invalid email addresses.\n",
    "3. Group the students:\n",
    "    1. Define function for randomly assigning groups.\n",
    "    2. Create \\`SAT Group\\` column and assign groups in column.\n",
    "    3. Sort students by group.\n",
    "4. Export resulting DataFrame to Excel Workbook.\n",
    "5. Send assigned Group to each student via Email"
   ],
   "metadata": {
    "collapsed": false
   }
  },
  {
   "cell_type": "markdown",
   "source": [
    "## Import Google Form data"
   ],
   "metadata": {
    "collapsed": false
   }
  },
  {
   "cell_type": "code",
   "execution_count": null,
   "outputs": [],
   "source": [
    "# import modules for data analysis\n",
    "import pandas as pd\n",
    "from re import search\n",
    "from random import randint, seed\n",
    "\n",
    "# import student data\n",
    "\n",
    "# students who have taken the SAT before\n",
    "students_bf = pd.read_excel(\"../data/batch-2/Ckodon Activity Review Form - Before (BATCH 2).xlsx\")\n",
    "\n",
    "# students who have not been assigned an SAT group\n",
    "students_ng = pd.read_excel(\"../data/batch-2/Ckodon Activity Review Form - No Group (BATCH 2).xlsx\")\n",
    "\n",
    "\n",
    "# test import success\n",
    "print(students_bf.head())\n",
    "print(students_ng.head())"
   ],
   "metadata": {
    "collapsed": false
   }
  },
  {
   "cell_type": "markdown",
   "source": [
    "## Clean the data"
   ],
   "metadata": {
    "collapsed": false
   }
  },
  {
   "cell_type": "markdown",
   "source": [
    "### Remove leading and trailing white space from all string columns.\n",
    "Remove leading and trailing whitespace from the `Full Name` and `Email` column.\n"
   ],
   "metadata": {
    "collapsed": false
   }
  },
  {
   "cell_type": "code",
   "execution_count": 163,
   "outputs": [],
   "source": [
    "students_bf[\"Full Name\"] = students_bf[\"Full Name\"].apply(str.strip)\n",
    "students_bf[\"Email\"] = students_bf[\"Email\"].apply(str.strip)\n",
    "students_ng[\"Full Name\"] = students_ng[\"Full Name\"].apply(str.strip)\n",
    "students_ng[\"Email\"] = students_ng[\"Email\"].apply(str.strip)"
   ],
   "metadata": {
    "collapsed": false,
    "ExecuteTime": {
     "end_time": "2023-07-24T01:28:27.517128300Z",
     "start_time": "2023-07-24T01:28:27.314635900Z"
    }
   }
  },
  {
   "cell_type": "markdown",
   "source": [
    "### Search and print out duplicate rows\n",
    "Identify all rows with the same Full Name and Email or Full Name and WhatsApp Number.\n",
    "Duplicate rows will be manually inspected in MS Excel and removed from the data set after identification.\n"
   ],
   "metadata": {
    "collapsed": false
   }
  },
  {
   "cell_type": "code",
   "execution_count": 164,
   "outputs": [],
   "source": [
    "# define function for finding duplicates\n",
    "def print_duplicates(dataframe):\n",
    "    \"\"\"Prints all duplicate rows in `dataframe`.\n",
    "\n",
    "    Parameters\n",
    "    ==========\n",
    "    dataframe : pandas.core.frame.DataFrame\n",
    "        A pandas DataFrame containing each student's information.\n",
    "\n",
    "    Returns\n",
    "    =======\n",
    "    None\n",
    "    \"\"\"\n",
    "    # create copy of `dataframe`\n",
    "    dataframe_cp = dataframe.copy()\n",
    "\n",
    "    # extract relevant columns as lists for easy searching\n",
    "    dataframe_cp[\"Full Name\"] = dataframe_cp[\"Full Name\"].apply(str.lower)  # remove casing\n",
    "    dataframe_cp[\"Email\"] = dataframe_cp[\"Full Name\"].apply(str.lower)  # remove casing\n",
    "    names = [name.lower() for name in dataframe_cp[\"Full Name\"]]\n",
    "    emails = [email.lower() for email in dataframe_cp[\"Email\"]]\n",
    "    whatsapp_nos = list(dataframe_cp[\"WhatsApp Number\"])\n",
    "\n",
    "    for row in dataframe_cp.index:\n",
    "        name = dataframe_cp.loc[row][\"Full Name\"]\n",
    "        email = dataframe_cp.loc[row][\"Email\"]\n",
    "        whatsapp_no = dataframe_cp.loc[row][\"WhatsApp Number\"]\n",
    "        row_excel = row + 2  # row number in MS Excel\n",
    "\n",
    "        if names.count(name) > 1:\n",
    "            if emails.count(email) > 1 or whatsapp_nos.count(whatsapp_no) > 1:\n",
    "                no_of_duplicates = names.count(name)\n",
    "                print(\n",
    "                    f\"DUPLICATE FOUND ({no_of_duplicates}): {row_excel} {dataframe['Full Name'][row]} {whatsapp_no} {dataframe['Email'][row]}\")"
   ],
   "metadata": {
    "collapsed": false,
    "ExecuteTime": {
     "end_time": "2023-07-24T01:28:27.521991100Z",
     "start_time": "2023-07-24T01:28:27.330475700Z"
    }
   }
  },
  {
   "cell_type": "code",
   "execution_count": null,
   "outputs": [],
   "source": [
    "# search duplicate values from `students_bf`\n",
    "print(\"----------Searching-STUDENTS_BF--------------\")\n",
    "print_duplicates(students_bf)\n",
    "\n",
    "# search duplicate values from `students_ng`\n",
    "print(\"\\n\\n----------Searching-STUDENTS_NG--------------\")\n",
    "print_duplicates(students_ng)"
   ],
   "metadata": {
    "collapsed": false
   }
  },
  {
   "cell_type": "code",
   "execution_count": null,
   "outputs": [],
   "source": [
    "# merge and search duplicates across sheets (after removing duplicates manually)\n",
    "students = pd.concat([students_bf, students_ng], ignore_index=True)\n",
    "\n",
    "print(\"----------Searching-STUDENTS_BF-and-STUDENTS_NG--------------\")\n",
    "print_duplicates(students)"
   ],
   "metadata": {
    "collapsed": false
   }
  },
  {
   "cell_type": "markdown",
   "source": [
    "### Search and print out invalid email addresses\n",
    "Crucial as each student's group will be sent to them via email."
   ],
   "metadata": {
    "collapsed": false
   }
  },
  {
   "cell_type": "code",
   "execution_count": 167,
   "outputs": [],
   "source": [
    "# define function for validating email addresses\n",
    "def validate_address(email):\n",
    "    \"\"\"Return True if `email` is valid or False otherwise.\n",
    "\n",
    "    Parameters\n",
    "    ==========\n",
    "    email: str\n",
    "        The email address to be validated.\n",
    "\n",
    "    Returns\n",
    "    =======\n",
    "    bool\n",
    "        True means email address is valid. False means email address is invalid.\n",
    "    \"\"\"\n",
    "\n",
    "    pattern = \"[a-zA-Z0-9\\-.+_]+@[a-zA-Z0-9\\-.+_]+\\.[a-zA-Z]{2,}\"\n",
    "    match = search(pattern, email)\n",
    "    return bool(match)"
   ],
   "metadata": {
    "collapsed": false,
    "ExecuteTime": {
     "end_time": "2023-07-24T01:28:27.812057600Z",
     "start_time": "2023-07-24T01:28:27.796250700Z"
    }
   }
  },
  {
   "cell_type": "code",
   "execution_count": null,
   "outputs": [],
   "source": [
    "# call function on all addresses in email column\n",
    "\n",
    "# students_bf\n",
    "print(\"-------Invalid addresses in `students_bf`--------\")\n",
    "for row in students_bf.index:\n",
    "    email = students_bf.loc[row][\"Email\"]\n",
    "    if not validate_address(email):\n",
    "        print(students_bf.loc[row])\n",
    "\n",
    "# students_ng\n",
    "print(\"-------Invalid addresses in `students_ng`--------\")\n",
    "for row in students_ng.index:\n",
    "    email = students_ng.loc[row][\"Email\"]\n",
    "    if not validate_address(email):\n",
    "        print(students_ng.loc[row])"
   ],
   "metadata": {
    "collapsed": false
   }
  },
  {
   "cell_type": "markdown",
   "source": [
    "## Group the students"
   ],
   "metadata": {
    "collapsed": false
   }
  },
  {
   "cell_type": "markdown",
   "source": [
    "### Define function for randomly assigning groups"
   ],
   "metadata": {
    "collapsed": false
   }
  },
  {
   "cell_type": "code",
   "execution_count": 169,
   "outputs": [],
   "source": [
    "# recursive random number generator without repetition\n",
    "previous = []  # list of previously generated values\n",
    "seed(49)  # seed for random generator\n",
    "\n",
    "def generate(a, b):\n",
    "    \"\"\"Returns pseudorandom integer between a and b if not already contained in a global list with name `previous`.\n",
    "\n",
    "    Parameters\n",
    "    ==========\n",
    "    a : int\n",
    "        Lower bound of the range within which generated number may lie (inclusive).\n",
    "    b : int\n",
    "        Upper bound of the range within which generated number may lie (inclusive).\n",
    "\n",
    "    Returns\n",
    "    =======\n",
    "    int\n",
    "        A pseudorandom number between a and b inclusive whose value is not already contained in `previous` list.\n",
    "    \"\"\"\n",
    "    number = randint(a, b)\n",
    "    if number not in previous:\n",
    "        previous.append(number)\n",
    "        return number\n",
    "    else:\n",
    "        return generate(a, b)"
   ],
   "metadata": {
    "collapsed": false,
    "ExecuteTime": {
     "end_time": "2023-07-24T01:28:27.965121Z",
     "start_time": "2023-07-24T01:28:27.940251100Z"
    }
   }
  },
  {
   "cell_type": "markdown",
   "source": [
    "### Create \\`SAT Group\\` column and assign groups in column"
   ],
   "metadata": {
    "collapsed": false
   }
  },
  {
   "cell_type": "code",
   "execution_count": 170,
   "outputs": [],
   "source": [
    "# Create SAT Group column\n",
    "students_bf[\"SAT Group\"] = None\n",
    "students_ng[\"SAT Group\"] = None"
   ],
   "metadata": {
    "collapsed": false,
    "ExecuteTime": {
     "end_time": "2023-07-24T01:28:28.077616Z",
     "start_time": "2023-07-24T01:28:27.948149700Z"
    }
   }
  },
  {
   "cell_type": "code",
   "execution_count": null,
   "outputs": [],
   "source": [
    "# Assign groups for `students_bf`\n",
    "no_of_groups_a = round(len(students_bf) / 30)  # no of groups for students_bf\n",
    "groups = [chr(i + 84) for i in range(no_of_groups_a)]\n",
    "\n",
    "# for the no. of students there are, pick a random student and assign them a group.\n",
    "for i in range(len(students_bf)):\n",
    "    student = generate(0, len(students_bf) - 1)\n",
    "    group = groups[i % len(groups)]\n",
    "    students_bf[\"SAT Group\"][student] = group\n",
    "\n",
    "print(\"---------No-of-Students-per-Group--------\")\n",
    "for group in groups:\n",
    "    print(group, list(students_bf[\"SAT Group\"]).count(group))"
   ],
   "metadata": {
    "collapsed": false
   }
  },
  {
   "cell_type": "code",
   "execution_count": null,
   "outputs": [],
   "source": [
    "# Assign groups for `students_ng`\n",
    "previous = []  # reset `previous` list for random number generator\n",
    "students_ng[\"SAT Group\"] = None  # create new column\n",
    "no_of_groups_b = round(len(students_ng) / 30)  # no of groups for students_bf\n",
    "groups = [chr(i + 84 + no_of_groups_a) for i in range(no_of_groups_b)]\n",
    "\n",
    "# for the no. of students there are, pick a random student and assign them a group.\n",
    "for i in range(len(students_ng)):\n",
    "    student = generate(0, len(students_ng) - 1)\n",
    "    group = groups[i % len(groups)]\n",
    "    students_ng[\"SAT Group\"][student] = group\n",
    "\n",
    "print(\"---------No-of-Students-per-Group--------\")\n",
    "for group in groups:\n",
    "    print(group, list(students_ng[\"SAT Group\"]).count(group))"
   ],
   "metadata": {
    "collapsed": false
   }
  },
  {
   "cell_type": "markdown",
   "source": [
    "### Sort students by group"
   ],
   "metadata": {
    "collapsed": false
   }
  },
  {
   "cell_type": "code",
   "execution_count": null,
   "outputs": [],
   "source": [
    "students_bf.sort_values(\"SAT Group\", inplace=True)\n",
    "students_ng.sort_values(\"SAT Group\", inplace=True)\n",
    "\n",
    "print(students_bf)\n",
    "print(students_ng)"
   ],
   "metadata": {
    "collapsed": false
   }
  },
  {
   "cell_type": "markdown",
   "source": [
    "## Export to Excel Workbook"
   ],
   "metadata": {
    "collapsed": false
   }
  },
  {
   "cell_type": "code",
   "execution_count": 174,
   "outputs": [],
   "source": [
    "students_bf.to_excel(\"../data/batch-2/output/Ckodon Activity Review Groups(BEFORE) [BATCH 2].xlsx\", index=False)\n",
    "students_ng.to_excel(\"../data/batch-2/output/Ckodon Activity Review Groups(NO GROUP) [BATCH 2].xlsx\", index=False)"
   ],
   "metadata": {
    "collapsed": false,
    "ExecuteTime": {
     "end_time": "2023-07-24T01:28:28.960220Z",
     "start_time": "2023-07-24T01:28:28.367403500Z"
    }
   }
  },
  {
   "cell_type": "markdown",
   "source": [
    "# Email Group Assignments to Students\n",
    "Email the assigned group and corresponding WhatsApp group link to each student."
   ],
   "metadata": {
    "collapsed": false
   }
  },
  {
   "cell_type": "code",
   "execution_count": null,
   "outputs": [],
   "source": [
    "# concatenate `students_bf` and `students_ng`\n",
    "students = pd.concat([students_bf, students_ng], ignore_index=True)\n",
    "students"
   ],
   "metadata": {
    "collapsed": false
   }
  },
  {
   "cell_type": "markdown",
   "source": [],
   "metadata": {
    "collapsed": false
   }
  },
  {
   "cell_type": "code",
   "execution_count": 182,
   "outputs": [
    {
     "name": "stdout",
     "output_type": "stream",
     "text": [
      "SENT\n",
      "SENT\n",
      "SENT\n",
      "SENT\n",
      "SENT\n",
      "SENT\n",
      "SENT\n",
      "SENT\n",
      "SENT\n",
      "SENT\n",
      "SENT\n",
      "SENT\n",
      "SENT\n",
      "SENT\n",
      "SENT\n",
      "SENT\n",
      "SENT\n",
      "SENT\n",
      "SENT\n",
      "SENT\n",
      "SENT\n",
      "SENT\n",
      "SENT\n",
      "SENT\n",
      "SENT\n",
      "SENT\n",
      "SENT\n",
      "SENT\n",
      "SENT\n",
      "SENT\n",
      "SENT\n",
      "SENT\n",
      "SENT\n",
      "SENT\n",
      "SENT\n",
      "SENT\n",
      "SENT\n",
      "SENT\n",
      "SENT\n",
      "SENT\n",
      "SENT\n",
      "SENT\n",
      "SENT\n",
      "SENT\n",
      "SENT\n",
      "SENT\n",
      "SENT\n",
      "SENT\n",
      "SENT\n",
      "SENT\n",
      "SENT\n",
      "SENT\n",
      "SENT\n",
      "SENT\n",
      "SENT\n",
      "SENT\n",
      "SENT\n",
      "SENT\n",
      "SENT\n",
      "SENT\n",
      "SENT\n",
      "SENT\n",
      "SENT\n",
      "SENT\n",
      "SENT\n",
      "SENT\n",
      "SENT\n",
      "SENT\n",
      "SENT\n",
      "SENT\n",
      "SENT\n",
      "SENT\n",
      "SENT\n",
      "SENT\n",
      "SENT\n",
      "SENT\n",
      "SENT\n",
      "SENT\n",
      "SENT\n",
      "SENT\n",
      "SENT\n",
      "SENT\n",
      "SENT\n",
      "SENT\n",
      "SENT\n",
      "SENT\n",
      "SENT\n",
      "SENT\n",
      "SENT\n",
      "SENT\n",
      "SENT\n",
      "SENT\n",
      "SENT\n",
      "SENT\n",
      "SENT\n",
      "SENT\n",
      "SENT\n",
      "SENT\n",
      "SENT\n",
      "SENT\n",
      "SENT\n",
      "SENT\n",
      "SENT\n",
      "SENT\n",
      "SENT\n",
      "SENT\n",
      "SENT\n",
      "SENT\n",
      "SENT\n",
      "SENT\n",
      "SENT\n",
      "SENT\n",
      "SENT\n",
      "SENT\n",
      "SENT\n",
      "SENT\n",
      "SENT\n",
      "SENT\n",
      "SENT\n",
      "SENT\n",
      "SENT\n",
      "SENT\n",
      "SENT\n",
      "SENT\n",
      "SENT\n"
     ]
    }
   ],
   "source": [
    "# import modules for email\n",
    "from smtplib import SMTP\n",
    "from email.message import EmailMessage\n",
    "from time import sleep\n",
    "import json\n",
    "\n",
    "# import server credentials and WhatsApp links from json file\n",
    "credentials = json.loads(open(\"../data/credentials.json\").read()) \n",
    "\n",
    "whatsapp_links = credentials[\"whatsapp_links\"]\n",
    "\n",
    "# instantiate SMTP client\n",
    "server = credentials[\"server\"]\n",
    "port = credentials[\"port\"]\n",
    "username = credentials[\"username\"]\n",
    "password = credentials[\"password\"]\n",
    "\n",
    "smtp = SMTP(server, port)\n",
    "smtp.ehlo()\n",
    "smtp.starttls()\n",
    "smtp.login(username, password)\n",
    "\n",
    "\n",
    "# to prevent server overload (Gmail SMTP Error 421)\n",
    "emails_sent = 0  # no. of emails sent so far\n",
    "delay_s = 60  # delay in seconds\n",
    "\n",
    "\n",
    "# for every student, create and send an email message\n",
    "for row in students.index:\n",
    "    student = students.loc[row]\n",
    "    msg = EmailMessage()\n",
    "    msg[\"From\"] = \"ckodontech@gmail.com\"\n",
    "    msg[\"To\"] = student[\"Email\"]\n",
    "    msg[\"Subject\"] = \"Your Ckodon Activity Review Group\"\n",
    "    body = f\"\"\"Dear {student[\"Full Name\"].title()},\n",
    "\n",
    "You have been assigned to Ckodon Activity Review Group {student[\"SAT Group\"]}.\n",
    "\n",
    "You may use the link below to join your assigned group on WhatsApp:\n",
    "{whatsapp_links[student[\"SAT Group\"]]}\n",
    "\n",
    "Join the group as soon as possible so that we can begin with the review. This link is meant to be used by you alone. Do not share with any other person.\n",
    "\n",
    "Please do not reply to this email.\n",
    "\n",
    "Best,\n",
    "The Ckodon Foundation Team.\"\"\"\n",
    "    msg.set_content(body)\n",
    "\n",
    "    # send email message\n",
    "    try:\n",
    "        smtp.send_message(msg)\n",
    "        print(\"SENT\")\n",
    "        emails_sent += 1\n",
    "\n",
    "        # wait 1 minute every 60 emails to prevent Gmail SMTP Error 421\n",
    "        if emails_sent == 60:\n",
    "            emails_sent = 0\n",
    "            sleep(delay_s)\n",
    "    except Exception as exception:\n",
    "        print(\"Exception:\", exception)\n",
    "        print(\"Sending terminated at row number:\", row)\n"
   ],
   "metadata": {
    "collapsed": false,
    "ExecuteTime": {
     "end_time": "2023-07-24T02:04:13.304126600Z",
     "start_time": "2023-07-24T01:59:34.151635200Z"
    }
   }
  }
 ],
 "metadata": {
  "kernelspec": {
   "display_name": "Python 3",
   "language": "python",
   "name": "python3"
  },
  "language_info": {
   "codemirror_mode": {
    "name": "ipython",
    "version": 2
   },
   "file_extension": ".py",
   "mimetype": "text/x-python",
   "name": "python",
   "nbconvert_exporter": "python",
   "pygments_lexer": "ipython2",
   "version": "2.7.6"
  }
 },
 "nbformat": 4,
 "nbformat_minor": 0
}
