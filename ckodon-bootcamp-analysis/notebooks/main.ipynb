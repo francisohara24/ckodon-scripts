{
 "cells": [
  {
   "cell_type": "markdown",
   "source": [
    "### Ckodon Bootcamp Analysis Goals\n",
    "A. Extract:\n",
    "1. Total no. of students\n",
    "2. Total no. of SHS students\n",
    "3. Total no. of university students\n",
    "4. Total no. of gap year students\n",
    "\n",
    "B. Group university students:\n",
    "1. KNUST students\n",
    "2. University of Ghana Legon students\n",
    "3. Other university students\n",
    "\n",
    "C. Group gap year students:\n",
    "1. Accra-based students\n",
    "2. Kumasi-based students\n",
    "3. Other-based students\n",
    "\n",
    "D. Combine & Group:\n",
    "1. KNUST + Kumasi-based students\n",
    "2. University of Ghana + Accra-based students\n",
    "3. Other university students + other-based students\n",
    "\n",
    "E. Prepare DataFrames for Export\n",
    "1. Add SAT Group column\n",
    "2. Prepare Other(unsorted) students DataFrame\n",
    "3. Prepare Kumasi students DataFrame\n",
    "4. Prepare Accra students DataFrame\n",
    "5. Prepare SHS students DataFrame\n",
    "\n",
    "F. Export all DataFrames to excel workbook"
   ],
   "metadata": {
    "collapsed": false
   }
  },
  {
   "cell_type": "markdown",
   "source": [
    "**A. Import the data set and extract each category of students**"
   ],
   "metadata": {
    "collapsed": false
   }
  },
  {
   "cell_type": "code",
   "execution_count": 1,
   "outputs": [
    {
     "name": "stdout",
     "output_type": "stream",
     "text": [
      "Total number of students: 388\n"
     ]
    }
   ],
   "source": [
    "import pandas as pd\n",
    "\n",
    "#import students\n",
    "students = pd.read_excel(\"../data/Ckodon SAT Bootcamp Survey (Responses).xlsx\")\n",
    "n_students = students.shape[0]\n",
    "\n",
    "# test import\n",
    "# print(students.head())\n",
    "print(\"Total number of students:\", n_students)"
   ],
   "metadata": {
    "collapsed": false,
    "ExecuteTime": {
     "end_time": "2023-06-01T17:32:49.558997900Z",
     "start_time": "2023-06-01T17:32:45.480485700Z"
    }
   }
  },
  {
   "cell_type": "code",
   "execution_count": 2,
   "metadata": {
    "ExecuteTime": {
     "end_time": "2023-06-01T17:32:49.659358100Z",
     "start_time": "2023-06-01T17:32:49.565145600Z"
    }
   },
   "outputs": [
    {
     "name": "stdout",
     "output_type": "stream",
     "text": [
      "Total number of SHS students: 24\n"
     ]
    }
   ],
   "source": [
    "# extract all SHS students\n",
    "shs = students[students[\"Are you currently enrolled at a Senior High School (SHS)?\"] == \"Yes\"]\n",
    "n_shs = shs.shape[0]\n",
    "print(\"Total number of SHS students:\", n_shs)"
   ]
  },
  {
   "cell_type": "code",
   "execution_count": 3,
   "metadata": {
    "ExecuteTime": {
     "end_time": "2023-06-01T17:32:49.819154900Z",
     "start_time": "2023-06-01T17:32:49.628312800Z"
    }
   },
   "outputs": [
    {
     "name": "stdout",
     "output_type": "stream",
     "text": [
      "Total number of university students: 292\n"
     ]
    }
   ],
   "source": [
    "# extract all university students\n",
    "univ = students[students[\"Are you currently enrolled at a university?\"] == \"Yes\"]\n",
    "n_univ = univ.shape[0]\n",
    "print(\"Total number of university students:\", n_univ)"
   ]
  },
  {
   "cell_type": "code",
   "execution_count": 4,
   "metadata": {
    "ExecuteTime": {
     "end_time": "2023-06-01T17:32:50.032161200Z",
     "start_time": "2023-06-01T17:32:49.823603400Z"
    }
   },
   "outputs": [
    {
     "name": "stdout",
     "output_type": "stream",
     "text": [
      "Total number of gap year students: 72\n"
     ]
    },
    {
     "name": "stderr",
     "output_type": "stream",
     "text": [
      "C:\\Users\\DELL\\AppData\\Local\\Temp\\ipykernel_13944\\290623430.py:2: UserWarning: Boolean Series key will be reindexed to match DataFrame index.\n",
      "  gap = students[students[\"Are you currently enrolled at a Senior High School (SHS)?\"] == \"No\"][\n"
     ]
    }
   ],
   "source": [
    "# extract all gap year students\n",
    "gap = students[students[\"Are you currently enrolled at a Senior High School (SHS)?\"] == \"No\"][\n",
    "    students[\"Are you currently enrolled at a university?\"] == \"No\"]\n",
    "n_gap = gap.shape[0]\n",
    "print(\"Total number of gap year students:\", n_gap)"
   ]
  },
  {
   "cell_type": "code",
   "execution_count": 5,
   "metadata": {
    "ExecuteTime": {
     "end_time": "2023-06-01T17:32:50.082396200Z",
     "start_time": "2023-06-01T17:32:50.038713900Z"
    }
   },
   "outputs": [
    {
     "name": "stdout",
     "output_type": "stream",
     "text": [
      "n_students: 388\n",
      "Total: 388\n"
     ]
    }
   ],
   "source": [
    "# verify total\n",
    "total = n_gap + n_univ + n_shs\n",
    "\n",
    "print(\"n_students:\", n_students)\n",
    "print(\"Total:\", total)  # should equal n_students"
   ]
  },
  {
   "cell_type": "markdown",
   "source": [
    "**B. Group university students**"
   ],
   "metadata": {
    "collapsed": false
   }
  },
  {
   "cell_type": "code",
   "execution_count": 6,
   "outputs": [
    {
     "name": "stdout",
     "output_type": "stream",
     "text": [
      "Total number of KNUST students: 220\n",
      "Total number of Legon students: 24\n",
      "Total number of Other university students: 48\n",
      "\n",
      "Total number of university students: 292\n",
      "Combined total: 292\n"
     ]
    }
   ],
   "source": [
    "# Grouping university students (knust, legon, other_uni)\n",
    "terms_knust = [\"knust\", \"kwame nkrumah university of science and technology\", \"kwame\", \"nkrumah\"]\n",
    "terms_legon = [\"legon\", \"university of ghana\"]\n",
    "knust = pd.DataFrame(columns=univ.columns)\n",
    "legon = pd.DataFrame(columns=univ.columns)\n",
    "other_uni = pd.DataFrame(columns=univ.columns)\n",
    "added_rows = []\n",
    "\n",
    "# group knust\n",
    "for row in univ.index:\n",
    "    for term in terms_knust:\n",
    "        if term in univ.loc[row][\"At which university are you currently enrolled?\"].lower():\n",
    "            knust.loc[len(knust)] = univ.loc[row]\n",
    "            added_rows.append(row)\n",
    "            break\n",
    "\n",
    "# group legon\n",
    "for row in univ.index:\n",
    "    if row not in added_rows:\n",
    "        for term in terms_legon:\n",
    "            if term in univ.loc[row][\"At which university are you currently enrolled?\"].lower():\n",
    "                legon.loc[len(legon)] = univ.loc[row]\n",
    "                added_rows.append(row)\n",
    "                break\n",
    "\n",
    "# group other\n",
    "for row in univ.index:\n",
    "    if row not in added_rows:\n",
    "        other_uni.loc[len(other_uni)] = univ.loc[row]\n",
    "\n",
    "# check totals\n",
    "n_knust = len(knust)\n",
    "n_legon = len(legon)\n",
    "n_other = len(other_uni)\n",
    "\n",
    "print(\"Total number of KNUST students:\", n_knust)\n",
    "print(\"Total number of Legon students:\", n_legon)\n",
    "print(\"Total number of Other university students:\", n_other, end=\"\\n\\n\")\n",
    "\n",
    "print(\"Total number of university students:\", n_univ)\n",
    "print(\"Combined total:\", n_knust + n_legon + n_other)  # must match n_univ\n"
   ],
   "metadata": {
    "collapsed": false,
    "ExecuteTime": {
     "end_time": "2023-06-01T17:32:55.542423200Z",
     "start_time": "2023-06-01T17:32:50.065568500Z"
    }
   }
  },
  {
   "cell_type": "markdown",
   "source": [
    "**C. Group Gap-Year Students**"
   ],
   "metadata": {
    "collapsed": false
   }
  },
  {
   "cell_type": "code",
   "execution_count": 7,
   "metadata": {
    "ExecuteTime": {
     "end_time": "2023-06-01T17:32:56.729236300Z",
     "start_time": "2023-06-01T17:32:55.792816200Z"
    }
   },
   "outputs": [
    {
     "name": "stdout",
     "output_type": "stream",
     "text": [
      "Total number of Accra gap-year students: 27\n",
      "Total number of Kumasi gap-year students: 21\n",
      "Total number of Other gap-year students: 24\n",
      "Total no. of gap year students: 72\n",
      "Combined total: 72\n"
     ]
    }
   ],
   "source": [
    "# group gap year students (kumasi, accra, other)\n",
    "terms_kumasi = [\"kumasi\", \"ashanti\"]\n",
    "terms_accra = [\"greater accra\", \"accra\"]\n",
    "kumasi = pd.DataFrame(columns=gap.columns)\n",
    "accra = pd.DataFrame(columns=gap.columns)\n",
    "other = pd.DataFrame(columns=gap.columns)\n",
    "added_rows = []\n",
    "\n",
    "# group kumasi\n",
    "for row in gap.index:\n",
    "    for term in terms_kumasi:\n",
    "        if term in gap.loc[row][\"Where do you currently live?\"].lower():\n",
    "            kumasi.loc[len(kumasi)] = gap.loc[row]\n",
    "            added_rows.append(row)\n",
    "            break\n",
    "\n",
    "# group accra\n",
    "for row in gap.index:\n",
    "    for term in terms_accra:\n",
    "        if term in gap.loc[row][\"Where do you currently live?\"].lower():\n",
    "            accra.loc[len(accra)] = gap.loc[row]\n",
    "            added_rows.append(row)\n",
    "            break\n",
    "\n",
    "# group other\n",
    "for row in gap.index:\n",
    "    if row not in added_rows:\n",
    "        other.loc[len(other)] = gap.loc[row]\n",
    "\n",
    "# check totals\n",
    "n_accra = len(accra)\n",
    "n_kumasi = len(kumasi)\n",
    "n_other = len(other)\n",
    "\n",
    "print(\"Total number of Accra gap-year students:\", n_accra)\n",
    "print(\"Total number of Kumasi gap-year students:\", n_kumasi)\n",
    "print(\"Total number of Other gap-year students:\", n_other)\n",
    "\n",
    "print(\"Total no. of gap year students:\", n_gap)\n",
    "print(\"Combined total:\", n_accra + n_kumasi + n_other)  # should equal n_gap"
   ]
  },
  {
   "cell_type": "markdown",
   "metadata": {},
   "source": [
    "**D. Combine by Region & Group**\n",
    "\n",
    "**Grouping Algorithm**\n",
    "1. Combine university students + gap year students.\n",
    "2. Find combined total, t\n",
    "3. Divide t by 30 to obtain no. of 30-member groups possible, n\n",
    "4. Create list of n DataFrames.\n",
    "5. Iterate over all females and assign each to DataFrame.\n",
    "6. Iterate over all males and assign each to DataFrame."
   ]
  },
  {
   "cell_type": "code",
   "execution_count": 8,
   "metadata": {
    "ExecuteTime": {
     "end_time": "2023-06-01T17:32:58.876083500Z",
     "start_time": "2023-06-01T17:32:56.729236300Z"
    }
   },
   "outputs": [
    {
     "name": "stdout",
     "output_type": "stream",
     "text": [
      "=======KUMASI GROUPS GENDER ANALYSIS=======\n",
      "---------GROUP-1---------\n",
      "Males: 27\n",
      "Females: 4\n",
      "---------------------------\n",
      "---------GROUP-2---------\n",
      "Males: 26\n",
      "Females: 4\n",
      "---------------------------\n",
      "---------GROUP-3---------\n",
      "Males: 26\n",
      "Females: 4\n",
      "---------------------------\n",
      "---------GROUP-4---------\n",
      "Males: 26\n",
      "Females: 4\n",
      "---------------------------\n",
      "---------GROUP-5---------\n",
      "Males: 26\n",
      "Females: 4\n",
      "---------------------------\n",
      "---------GROUP-6---------\n",
      "Males: 26\n",
      "Females: 4\n",
      "---------------------------\n",
      "---------GROUP-7---------\n",
      "Males: 26\n",
      "Females: 4\n",
      "---------------------------\n",
      "---------GROUP-8---------\n",
      "Males: 26\n",
      "Females: 4\n",
      "---------------------------\n"
     ]
    }
   ],
   "source": [
    "# Group Kumasi + KNUST\n",
    "kumasi_all = pd.concat([knust, kumasi], ignore_index=True)\n",
    "\n",
    "t_kumasi_all = len(kumasi_all)\n",
    "n_kumasi_all = round(t_kumasi_all / 30)\n",
    "\n",
    "groups_kumasi = [pd.DataFrame(columns=kumasi_all.columns) for i in range(n_kumasi_all)]\n",
    "\n",
    "# distribute females among groups\n",
    "group_no = 0\n",
    "for row in kumasi_all.index:\n",
    "    if kumasi_all.loc[row][\"Gender\"] == \"Female\":\n",
    "        groups_kumasi[group_no % n_kumasi_all].loc[len(groups_kumasi[group_no % n_kumasi_all])] = kumasi_all.loc[row]\n",
    "        group_no += 1\n",
    "\n",
    "\n",
    "# distribute males among groups\n",
    "group_no = 0\n",
    "for row in kumasi_all.index:\n",
    "    if kumasi_all.loc[row][\"Gender\"] == \"Male\":\n",
    "        groups_kumasi[group_no % n_kumasi_all].loc[len(groups_kumasi[group_no % n_kumasi_all])] = kumasi_all.loc[row]\n",
    "        group_no += 1\n",
    "\n",
    "\n",
    "# Gender analysis per group\n",
    "print(\"=======KUMASI GROUPS GENDER ANALYSIS=======\")\n",
    "for i in range(len(groups_kumasi)):\n",
    "    print(f\"---------GROUP-{i+1}---------\")\n",
    "    n_males = len(groups_kumasi[i][groups_kumasi[i][\"Gender\"]==\"Male\"])\n",
    "    n_females = len(groups_kumasi[i][groups_kumasi[i][\"Gender\"]==\"Female\"])\n",
    "    print(\"Males:\", n_males)\n",
    "    print(\"Females:\", n_females)\n",
    "    print(\"---------------------------\")\n"
   ]
  },
  {
   "cell_type": "code",
   "execution_count": 9,
   "metadata": {
    "ExecuteTime": {
     "end_time": "2023-06-01T17:32:59.323110300Z",
     "start_time": "2023-06-01T17:32:58.877080700Z"
    }
   },
   "outputs": [
    {
     "name": "stdout",
     "output_type": "stream",
     "text": [
      "=======ACCRA GROUPS GENDER ANALYSIS=======\n",
      "---------GROUP-1---------\n",
      "Males: 22\n",
      "Females: 4\n",
      "---------------------------\n",
      "---------GROUP-2---------\n",
      "Males: 22\n",
      "Females: 3\n",
      "---------------------------\n"
     ]
    }
   ],
   "source": [
    "# Group Accra + University of Ghana\n",
    "accra_all = pd.concat([legon, accra], ignore_index=True)\n",
    "t_accra_all = len(accra_all)\n",
    "n_accra_all = round(t_accra_all / 30)\n",
    "\n",
    "\n",
    "groups_accra = [pd.DataFrame(columns=accra_all.columns) for i in range(n_accra_all)]\n",
    "\n",
    "\n",
    "# distribute females among groups\n",
    "group_no = 0\n",
    "for row in accra_all.index:\n",
    "    if accra_all.loc[row][\"Gender\"] == \"Female\":\n",
    "        groups_accra[group_no % n_accra_all].loc[len(groups_accra[group_no % n_accra_all])] = accra_all.loc[row]\n",
    "        group_no += 1\n",
    "\n",
    "# distribute males among groups\n",
    "group_no = 0\n",
    "for row in accra_all.index:\n",
    "    if accra_all.loc[row][\"Gender\"] == \"Male\":\n",
    "        groups_accra[group_no % n_accra_all].loc[len(groups_accra[group_no % n_accra_all])] = accra_all.loc[row]\n",
    "        group_no += 1\n",
    "\n",
    "# Gender analysis per group\n",
    "print(\"=======ACCRA GROUPS GENDER ANALYSIS=======\")\n",
    "for i in range(len(groups_accra)):\n",
    "    print(f\"---------GROUP-{i+1}---------\")\n",
    "    n_males = len(groups_accra[i][groups_accra[i][\"Gender\"]==\"Male\"])\n",
    "    n_females = len(groups_accra[i][groups_accra[i][\"Gender\"]==\"Female\"])\n",
    "    print(\"Males:\", n_males)\n",
    "    print(\"Females:\", n_females)\n",
    "    print(\"---------------------------\")\n"
   ]
  },
  {
   "cell_type": "code",
   "execution_count": 10,
   "metadata": {
    "ExecuteTime": {
     "end_time": "2023-06-01T17:32:59.344410900Z",
     "start_time": "2023-06-01T17:32:59.331166800Z"
    }
   },
   "outputs": [
    {
     "name": "stdout",
     "output_type": "stream",
     "text": [
      "Total unsorted students: 72\n"
     ]
    }
   ],
   "source": [
    "# Combine Other + Other_uni w/o grouping\n",
    "other_all = pd.concat([other, other_uni], ignore_index=True)\n",
    "\n",
    "n_other_all = len(other_all)\n",
    "print(\"Total unsorted students:\", n_other_all)"
   ]
  },
  {
   "cell_type": "markdown",
   "metadata": {},
   "source": [
    "### Prepare DataFrames for Export\n",
    "**Algorithm for combining groups**:\n",
    "1. For every group in groups:\n",
    "     - Append column at end of group, SAT Group.\n",
    "     - Assign alphabet to SAT Group column for all students in group.\n",
    "2. Concatenate all groups"
   ]
  },
  {
   "cell_type": "code",
   "execution_count": 11,
   "metadata": {
    "ExecuteTime": {
     "end_time": "2023-06-01T17:32:59.443943400Z",
     "start_time": "2023-06-01T17:32:59.406028800Z"
    }
   },
   "outputs": [],
   "source": [
    "# append SAT Group column to Students DataFrame\n",
    "group_col = pd.Series(index=students.index)\n",
    "students[\"SAT Group\"] = group_col\n",
    "\n",
    "# DataFrame for other (unsorted) group\n",
    "sheet_unsorted = pd.DataFrame(columns=students.columns)\n",
    "sheet_unsorted = pd.concat([sheet_unsorted, other_all], ignore_index=True)\n",
    "\n",
    "\n",
    "# dataframe for kumasi groups\n",
    "sheet_kumasi = pd.DataFrame(columns=students.columns)\n",
    "group_letters = {0:\"A\", 1:\"B\", 2:\"C\", 3:\"D\", 4:\"E\", 5:\"F\", 6:\"G\", 7:\"H\", 8:\"I\", 9:\"J\", 10:\"K\", 11:\"L\", 12:\"M\", 13:\"N\", 14:\"O\", 15:\"P\", 16:\"Q\", 17:\"R\", 18:\"S\", 19:\"T\", 20:\"U\", 21:\"V\", 22:\"W\", 23:\"X\", 24:\"Y\", 25:\"Z\"}\n",
    "for i in range(len(groups_kumasi)):\n",
    "    sheet_kumasi = pd.concat([sheet_kumasi, groups_kumasi[i]], ignore_index=True)\n",
    "    sheet_kumasi[\"SAT Group\"].fillna(group_letters[i], inplace=True)\n",
    "\n",
    "\n",
    "#  dataframe for accra groups\n",
    "sheet_accra = pd.DataFrame(columns=students.columns)\n",
    "for i in range(len(groups_accra)):\n",
    "    sheet_accra = pd.concat([sheet_accra, groups_accra[i]], ignore_index=True)\n",
    "    sheet_accra[\"SAT Group\"].fillna(group_letters[i], inplace=True)\n",
    "\n",
    "# dataframe for shs students\n",
    "sheet_shs = pd.DataFrame(columns=students.columns)\n",
    "sheet_shs = pd.concat([sheet_shs, shs], ignore_index=True)"
   ]
  },
  {
   "cell_type": "markdown",
   "metadata": {},
   "source": [
    "### Export to Excel Workbook\n",
    "1. Export sheet_shs to sheet1\n",
    "2. Export sheet_kumasi to sheet2\n",
    "3. Export sheet_accra to sheet3\n",
    "4. Export sheet_unsorted to sheet4"
   ]
  },
  {
   "cell_type": "code",
   "execution_count": 12,
   "metadata": {
    "ExecuteTime": {
     "end_time": "2023-06-01T17:33:00.172450600Z",
     "start_time": "2023-06-01T17:32:59.429410100Z"
    }
   },
   "outputs": [],
   "source": [
    "with pd.ExcelWriter(\"../data/output.xlsx\") as writer:\n",
    "    sheet_kumasi.to_excel(writer, sheet_name=\"Kumasi\")\n",
    "    sheet_accra.to_excel(writer, sheet_name=\"Accra\")\n",
    "    sheet_unsorted.to_excel(writer, sheet_name=\"Unsorted\")\n",
    "    sheet_shs.to_excel(writer, sheet_name=\"SHS\")"
   ]
  }
 ],
 "metadata": {
  "kernelspec": {
   "display_name": "Python 3 (ipykernel)",
   "language": "python",
   "name": "python3"
  },
  "language_info": {
   "codemirror_mode": {
    "name": "ipython",
    "version": 3
   },
   "file_extension": ".py",
   "mimetype": "text/x-python",
   "name": "python",
   "nbconvert_exporter": "python",
   "pygments_lexer": "ipython3",
   "version": "3.11.3"
  }
 },
 "nbformat": 4,
 "nbformat_minor": 2
}
